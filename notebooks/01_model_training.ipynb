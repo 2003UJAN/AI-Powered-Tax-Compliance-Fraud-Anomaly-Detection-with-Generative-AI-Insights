{
  "cells": [
    {
      "cell_type": "code",
      "metadata": {
        "id": "5dfe8c13"
      },
      "source": [
        "import os\n",
        "os.makedirs('model', exist_ok=True)\n",
        "os.makedirs('data', exist_ok=True)"
      ],
      "execution_count": 4,
      "outputs": []
    },
    {
      "cell_type": "code",
      "source": [
        "import pandas as pd\n",
        "from sklearn.ensemble import IsolationForest\n",
        "import joblib\n",
        "import os\n",
        "\n",
        "# --- Configuration ---\n",
        "DATA_PATH = 'data/complex_transactions.csv'\n",
        "MODEL_DIR = 'model'\n",
        "MODEL_PATH = os.path.join(MODEL_DIR, 'isolation_forest_model_complex.pkl')\n",
        "FEATURES_PATH = os.path.join(MODEL_DIR, 'feature_list.pkl')\n",
        "\n",
        "# --- Ensure model directory exists ---\n",
        "os.makedirs(MODEL_DIR, exist_ok=True)\n",
        "\n",
        "# --- Load Data ---\n",
        "try:\n",
        "    df = pd.read_csv(DATA_PATH)\n",
        "except FileNotFoundError:\n",
        "    print(f\"Error: '{DATA_PATH}' not found. Please run generate_data.py first.\")\n",
        "    exit()\n",
        "\n",
        "# --- Feature Engineering ---\n",
        "categorical_features = ['Currency', 'Transaction_Type', 'Device_Type', 'Sender_Country_Code']\n",
        "df_encoded = pd.get_dummies(df, columns=categorical_features, drop_first=True)\n",
        "\n",
        "numerical_features = ['Amount', 'Transactions_Last_24H', 'Avg_Transaction_Value_Last_30D', 'Is_New_Recipient']\n",
        "encoded_cols = [col for col in df_encoded.columns if any(cat_feat in col for cat_feat in categorical_features)]\n",
        "final_features = numerical_features + encoded_cols\n",
        "\n",
        "# Align columns to handle cases where some categories might not be in the data split\n",
        "X = df_encoded.reindex(columns=final_features, fill_value=0)\n",
        "\n",
        "# --- Train the Model ---\n",
        "# Contamination is the expected proportion of anomalies in the data\n",
        "contamination_rate = df['Is_Anomaly'].sum() / len(df) if 'Is_Anomaly' in df.columns else 'auto'\n",
        "model = IsolationForest(n_estimators=100, contamination=contamination_rate, random_state=42)\n",
        "model.fit(X)\n",
        "\n",
        "# --- Save the Model and Feature List ---\n",
        "joblib.dump(model, MODEL_PATH)\n",
        "joblib.dump(final_features, FEATURES_PATH)\n",
        "\n",
        "print(f\"Model saved to '{MODEL_PATH}'\")\n",
        "print(f\"Feature list saved to '{FEATURES_PATH}'\")"
      ],
      "metadata": {
        "colab": {
          "base_uri": "https://localhost:8080/"
        },
        "id": "pI_ECDylGw_4",
        "outputId": "cb4fa18a-df11-4154-a004-79e0530959be"
      },
      "execution_count": 5,
      "outputs": [
        {
          "output_type": "stream",
          "name": "stdout",
          "text": [
            "Model saved to 'model/isolation_forest_model_complex.pkl'\n",
            "Feature list saved to 'model/feature_list.pkl'\n"
          ]
        }
      ]
    }
  ],
  "metadata": {
    "colab": {
      "name": "Welcome To Colab",
      "provenance": []
    },
    "kernelspec": {
      "display_name": "Python 3",
      "name": "python3"
    }
  },
  "nbformat": 4,
  "nbformat_minor": 0
}