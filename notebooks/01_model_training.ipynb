{
  "cells": [
    {
      "cell_type": "code",
      "metadata": {
        "id": "5dfe8c13"
      },
      "source": [
        "import os\n",
        "os.makedirs('model', exist_ok=True)\n",
        "os.makedirs('data', exist_ok=True)"
      ],
      "execution_count": 4,
      "outputs": []
    },
    {
      "cell_type": "code",
      "source": [
        "import pandas as pd\n",
        "from sklearn.ensemble import IsolationForest\n",
        "import joblib\n",
        "import os\n",
        "\n",
        "# --- Configuration ---\n",
        "DATA_PATH = 'data/complex_transactions.csv'\n",
        "MODEL_DIR = 'model'\n",
        "MODEL_PATH = os.path.join(MODEL_DIR, 'isolation_forest_model_complex.pkl')\n",
        "FEATURES_PATH = os.path.join(MODEL_DIR, 'feature_list.pkl')\n",
        "\n",
        "os.makedirs(MODEL_DIR, exist_ok=True)\n",
        "\n",
        "# --- Load Data ---\n",
        "print(\"Loading 100,000 records...\")\n",
        "df = pd.read_csv(DATA_PATH)\n",
        "\n",
        "# --- Feature Engineering ---\n",
        "# Note: Full country names are now used\n",
        "categorical_features = ['Currency', 'Transaction_Type', 'Device_Type', 'Sender_Country', 'Recipient_Country']\n",
        "df_encoded = pd.get_dummies(df, columns=categorical_features, drop_first=True)\n",
        "\n",
        "numerical_features = ['Amount', 'Transactions_Last_24H', 'Avg_Transaction_Value_Last_30D', 'Is_New_Recipient']\n",
        "encoded_cols = [col for col in df_encoded.columns if any(cat_feat in col for cat_feat in categorical_features)]\n",
        "final_features = numerical_features + encoded_cols\n",
        "\n",
        "X = df_encoded.reindex(columns=final_features, fill_value=0)\n",
        "\n",
        "# --- Train the Model ---\n",
        "print(\"Training Isolation Forest model... this may take a few moments.\")\n",
        "contamination_rate = df['Is_Anomaly'].sum() / len(df)\n",
        "model = IsolationForest(n_estimators=100, contamination=contamination_rate, random_state=42, n_jobs=-1) # Use all CPU cores\n",
        "model.fit(X)\n",
        "\n",
        "# --- Save the Model and Feature List ---\n",
        "joblib.dump(model, MODEL_PATH)\n",
        "joblib.dump(final_features, FEATURES_PATH)\n",
        "\n",
        "print(f\"✅ Model saved to '{MODEL_PATH}'\")\n",
        "print(f\"✅ Feature list saved to '{FEATURES_PATH}'\")"
      ],
      "metadata": {
        "colab": {
          "base_uri": "https://localhost:8080/"
        },
        "id": "pI_ECDylGw_4",
        "outputId": "c2f6dbb2-5388-4a7a-d986-12f228728c08"
      },
      "execution_count": 8,
      "outputs": [
        {
          "output_type": "stream",
          "name": "stdout",
          "text": [
            "Loading 100,000 records...\n",
            "Training Isolation Forest model... this may take a few moments.\n",
            "✅ Model saved to 'model/isolation_forest_model_complex.pkl'\n",
            "✅ Feature list saved to 'model/feature_list.pkl'\n"
          ]
        }
      ]
    }
  ],
  "metadata": {
    "colab": {
      "name": "Welcome To Colab",
      "provenance": []
    },
    "kernelspec": {
      "display_name": "Python 3",
      "name": "python3"
    }
  },
  "nbformat": 4,
  "nbformat_minor": 0
}